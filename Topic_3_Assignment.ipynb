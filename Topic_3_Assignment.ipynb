{
 "cells": [
  {
   "cell_type": "markdown",
   "metadata": {
    "id": "f6LjKU50-tD8"
   },
   "source": [
    "##Topic 3 - Python Structure & Data Type Assignment\n"
   ]
  },
  {
   "cell_type": "markdown",
   "metadata": {
    "id": "MPuR878HZEbx"
   },
   "source": [
    "# Data Type Declaration"
   ]
  },
  {
   "cell_type": "markdown",
   "metadata": {
    "id": "GyS5I54D-3K9"
   },
   "source": [
    "1. > Create an empty variable (Points : 5)"
   ]
  },
  {
   "cell_type": "code",
   "execution_count": null,
   "metadata": {
    "id": "jehesBY-_aKL"
   },
   "outputs": [],
   "source": [
    "#Code goes here"
   ]
  },
  {
   "cell_type": "markdown",
   "metadata": {
    "id": "6zCz3qZ8_bu2"
   },
   "source": [
    "2. > Create a variable containing your name (Points : 5)"
   ]
  },
  {
   "cell_type": "code",
   "execution_count": null,
   "metadata": {
    "id": "1wT8jnI6_f-U"
   },
   "outputs": [],
   "source": [
    "#Code goes here"
   ]
  },
  {
   "cell_type": "markdown",
   "metadata": {
    "id": "ApatE8m__2Ud"
   },
   "source": [
    "3. > Create a list of 5 items you can find in the classroom (Points : 5)"
   ]
  },
  {
   "cell_type": "code",
   "execution_count": null,
   "metadata": {
    "id": "-Q0Ynqx1_6hF"
   },
   "outputs": [],
   "source": [
    "#Code goes here"
   ]
  },
  {
   "cell_type": "markdown",
   "metadata": {
    "id": "6FwMmy_9AS5N"
   },
   "source": [
    "4. > Create a dictionary containing 2 keys and value (Points : 5)"
   ]
  },
  {
   "cell_type": "code",
   "execution_count": null,
   "metadata": {
    "id": "xLc2AlhtASOm"
   },
   "outputs": [],
   "source": [
    "#Code goes here"
   ]
  },
  {
   "cell_type": "markdown",
   "metadata": {
    "id": "6AqPfAS7a1Oi"
   },
   "source": [
    "# Basic Data Operation"
   ]
  },
  {
   "cell_type": "markdown",
   "metadata": {
    "id": "-ZZF1cXlbqkJ"
   },
   "source": [
    "You sold 20 pieces of electronics at the price of 12000. The customer gets a total discount of 10%.\n",
    "\n",
    "Below are those variables:\n",
    "\n",
    "1.   price=12000\n",
    "2.   quantity_sold=20\n",
    "3.   discount=10%\n",
    "\n",
    "\n",
    "Using Python code, write the code the find the total money that the customer to pay. (Points : 15)"
   ]
  },
  {
   "cell_type": "code",
   "execution_count": null,
   "metadata": {
    "id": "90T0A2HvbcCK"
   },
   "outputs": [],
   "source": [
    "#Code goes here"
   ]
  },
  {
   "cell_type": "markdown",
   "metadata": {
    "id": "G-HHsg4la6mJ"
   },
   "source": [
    "# List Data Operation"
   ]
  },
  {
   "cell_type": "markdown",
   "metadata": {
    "id": "NdoSjVZ4Zbqg"
   },
   "source": [
    "5. > Follow the instructions in the code blocks\n",
    "\n",
    "\n",
    "\n"
   ]
  },
  {
   "cell_type": "code",
   "execution_count": null,
   "metadata": {
    "id": "xsFxlZGLaQ7y"
   },
   "outputs": [],
   "source": [
    "# Create list of countries in the world (total 7 countries) (Points : 5)\n",
    "\n",
    "#Code goes here"
   ]
  },
  {
   "cell_type": "code",
   "execution_count": null,
   "metadata": {
    "id": "6Se125DabJ6R"
   },
   "outputs": [],
   "source": [
    "# Get 4 countries from the first index of the list (Points : 5)\n",
    "\n",
    "#Code goes here"
   ]
  },
  {
   "cell_type": "code",
   "execution_count": null,
   "metadata": {
    "id": "FSU5QfExbKAh"
   },
   "outputs": [],
   "source": [
    "# Append new country to the list (Points : 5)\n",
    "\n",
    "#Code goes here"
   ]
  },
  {
   "cell_type": "code",
   "execution_count": null,
   "metadata": {
    "id": "DlvXbKlnbKGR"
   },
   "outputs": [],
   "source": [
    "# Drop one country from the list (Points : 5)\n",
    "\n",
    "#Code goes here"
   ]
  },
  {
   "cell_type": "code",
   "execution_count": null,
   "metadata": {
    "id": "F1NJ6JCQbKJ7"
   },
   "outputs": [],
   "source": [
    "# Get country in the last index (Points : 5)\n",
    "\n",
    "#Code goes here"
   ]
  },
  {
   "cell_type": "markdown",
   "metadata": {
    "id": "Kfkq-SmIdJR6"
   },
   "source": [
    "# Dictionary Data Operation"
   ]
  },
  {
   "cell_type": "markdown",
   "metadata": {
    "id": "WyJ8CJzdeMiS"
   },
   "source": [
    "6. >  Follow the instructions below\n",
    "\n",
    "\n",
    "\n"
   ]
  },
  {
   "cell_type": "code",
   "execution_count": null,
   "metadata": {
    "id": "fVHYIKLwdMfq"
   },
   "outputs": [],
   "source": [
    "# Given the dictionary below\n",
    "\n",
    "customer={\n",
    "    \"name\":['Dio','Eka','Wayu','Riki'],\n",
    "    \"age\":[20,19,24,39],\n",
    "    \"gender\":[1,0,0,1],\n",
    "    \"membership\":['Platinum','Gold','Silver','Silver']\n",
    "}"
   ]
  },
  {
   "cell_type": "code",
   "execution_count": null,
   "metadata": {
    "id": "LpRVtz4_eJK5"
   },
   "outputs": [],
   "source": [
    "# Print all keys in customer (Points : 5)\n",
    "\n",
    "#Code goes here"
   ]
  },
  {
   "cell_type": "code",
   "execution_count": null,
   "metadata": {
    "id": "QiEMM94FeYrz"
   },
   "outputs": [],
   "source": [
    "# Print all customer names (Points : 5)\n",
    "\n",
    "#Code goes here"
   ]
  },
  {
   "cell_type": "code",
   "execution_count": null,
   "metadata": {
    "id": "P2SeErUGgQ-D"
   },
   "outputs": [],
   "source": [
    "# Print the first customer name (Points : 5)\n",
    "\n",
    "#Code goes here"
   ]
  },
  {
   "cell_type": "code",
   "execution_count": null,
   "metadata": {
    "id": "c3PlmHxueiPy"
   },
   "outputs": [],
   "source": [
    "# Drop \"age\" key from the dictionary (Points : 5)\n",
    "\n",
    "#Code goes here"
   ]
  },
  {
   "cell_type": "code",
   "execution_count": 1,
   "metadata": {
    "id": "FgXDh9mIea9x"
   },
   "outputs": [],
   "source": [
    "# Replace customer gender list value (Points : 20)\n",
    "# gender 1 => Male\n",
    "# gender 0 => Female \n",
    "\n",
    "\n",
    "#Code goes here"
   ]
  }
 ],
 "metadata": {
  "colab": {
   "collapsed_sections": [],
   "name": "Topic 4 - Assignment ipynb",
   "provenance": []
  },
  "kernelspec": {
   "display_name": "Python 3 (ipykernel)",
   "language": "python",
   "name": "python3"
  },
  "language_info": {
   "codemirror_mode": {
    "name": "ipython",
    "version": 3
   },
   "file_extension": ".py",
   "mimetype": "text/x-python",
   "name": "python",
   "nbconvert_exporter": "python",
   "pygments_lexer": "ipython3",
   "version": "3.9.7"
  }
 },
 "nbformat": 4,
 "nbformat_minor": 4
}
